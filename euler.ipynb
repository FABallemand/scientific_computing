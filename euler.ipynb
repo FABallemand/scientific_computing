{
 "cells": [
  {
   "cell_type": "markdown",
   "metadata": {},
   "source": [
    "# Euler Method"
   ]
  },
  {
   "cell_type": "code",
   "execution_count": 14,
   "metadata": {},
   "outputs": [],
   "source": [
    "import numpy as np\n",
    "\n",
    "import matplotlib.pyplot as plt"
   ]
  },
  {
   "cell_type": "markdown",
   "metadata": {},
   "source": [
    "- Wikipedia: [Euler method](https://en.wikipedia.org/wiki/Euler_method)\n",
    "- Wikipedia: [Newton's method](https://en.wikipedia.org/wiki/Newton%27s_method)"
   ]
  },
  {
   "cell_type": "markdown",
   "metadata": {},
   "source": [
    "In mathematics and computational science, the Euler method (also called the forward Euler method) is a first-order numerical procedure for solving ordinary differential equations (ODEs) with a given initial value.\n",
    "\n",
    "Let $I = [t_a, t_b]$ be an interval of $\\mathbb{R}$ and $f$ a real function defined on $I \\times \\mathbb{R}$.\n",
    "\n",
    "$$\n",
    "\\left\\{\n",
    "    \\begin{array}{ll}\n",
    "        \\forall t \\in I, y'(t) = f(t, y(t)) \\\\\n",
    "        y_a = y(t_a)\n",
    "    \\end{array}\n",
    "\\right.\n",
    "$$\n",
    "\n",
    "The Euler method gives an approximate solution at $n$ evenly separated points $\\{x_i\\}_{i \\in \\{0,n\\}}$ of $I$ defined in this way: $x_i = a + i\\frac{b-a}{n}$.\n",
    "\n",
    "These values are noted $\\{y_i\\}_{i \\in \\{0,n\\}}$."
   ]
  },
  {
   "cell_type": "markdown",
   "metadata": {},
   "source": [
    "## Explicit"
   ]
  },
  {
   "cell_type": "markdown",
   "metadata": {},
   "source": [
    "The explicit Euler method makes use of the approximation of the derivative:\n",
    "\n",
    "$$\n",
    "y'(x_{i}) \\approx \\frac{y(x_{i+1}) - y(x_{i})}{x_{i+1} - x_{i}}, \\forall i \\in {0, n-1}\n",
    "$$\n",
    "\n",
    "The previous problem becomes:\n",
    "\n",
    "$$\n",
    "\\frac{y(x_{i+1}) - y(x_{i})}{x_{i+1} - x_{i}} = f(x_{i}, y_{i}) \\implies y_{i+1} = y_{i} + (x_{i+1} - x_{i})f(x_{i}, y_{i}), \\forall i \\in {0, n-1}\n",
    "$$"
   ]
  },
  {
   "cell_type": "code",
   "execution_count": 15,
   "metadata": {},
   "outputs": [],
   "source": [
    "def explicit_euler_method(i, n, f, y_0):\n",
    "    \"\"\"\n",
    "    First order Explicit Euler method.\n",
    "\n",
    "    Parameters\n",
    "    ----------\n",
    "    i : List | Tuple\n",
    "        Resolution interval\n",
    "        Etample: [-1,1] \n",
    "    n : int\n",
    "        Number of valuation points\n",
    "    f : function\n",
    "        Function f in the etpression of the ODE\n",
    "    y_0 : float\n",
    "        Initial value\n",
    "    Returns\n",
    "    -------\n",
    "    List, List\n",
    "        Valuation points, \n",
    "    \"\"\"\n",
    "    t = np.linspace(i[0], i[1], n)\n",
    "    y = [y_0]\n",
    "\n",
    "    for i in range(len(t)-1):\n",
    "        y.append(y[i] + (t[i+1] - t[i]) * f(t[i], y[i]))\n",
    "\n",
    "    return t, y"
   ]
  },
  {
   "cell_type": "code",
   "execution_count": 16,
   "metadata": {},
   "outputs": [],
   "source": [
    "i = [-1, 1]\n",
    "n = 1000\n",
    "d_y = lambda t: t*t\n",
    "f = lambda t, y: 2*t\n",
    "y_0 = 1\n",
    "\n",
    "t, y = explicit_euler_method(i, n, f, y_0)\n",
    "y_true = [d_y(t_i) for t_i in t]\n",
    "\n",
    "mse = np.sum([(y_i - y_t)**2 for y_i, y_t in list(zip(y, y_true))])"
   ]
  },
  {
   "cell_type": "code",
   "execution_count": 17,
   "metadata": {},
   "outputs": [
    {
     "data": {
      "text/plain": [
       "Text(0.5, 1.0, 'MSE = 0.005346690704052865')"
      ]
     },
     "execution_count": 17,
     "metadata": {},
     "output_type": "execute_result"
    },
    {
     "data": {
      "image/png": "[encoded data removed]",
      "text/plain": [
       "<Figure size 432x288 with 1 Axes>"
      ]
     },
     "metadata": {
      "needs_background": "light"
     },
     "output_type": "display_data"
    }
   ],
   "source": [
    "plt.plot(t, y, color=\"red\")\n",
    "plt.plot(t, y_true, color=\"green\")\n",
    "plt.title(f\"MSE = {mse}\")"
   ]
  },
  {
   "cell_type": "markdown",
   "metadata": {},
   "source": [
    "## Implicit"
   ]
  },
  {
   "cell_type": "markdown",
   "metadata": {},
   "source": [
    "The implicit Euler method makes use of the same approximation of the derivative but one step ahead:\n",
    "\n",
    "$$\n",
    "y'(x_{i+1}) \\approx \\frac{y(x_{i+1}) - y(x_{i})}{x_{i+1} - x_{i}}, \\forall i \\in {0, n-1}\n",
    "$$\n",
    "\n",
    "The previous problem becomes:\n",
    "\n",
    "$$\n",
    "\\frac{y(x_{i+1}) - y(x_{i})}{x_{i+1} - x_{i}} = f(x_{i+1}, y_{i+1}) \\implies y_{i+1} = y_{i} + (x_{i+1} - x_{i})f(x_{i+1}, y_{i+1}), \\forall i \\in {0, n-1}\n",
    "$$"
   ]
  },
  {
   "cell_type": "markdown",
   "metadata": {},
   "source": [
    "We notice that $y_{i+1}$ is present on both ends of the equation so we have to find a way to compute it.\n",
    "\n",
    "The Newton's method is a simple way to find a good approximation of the root of a function.\n",
    "\n",
    "It is possible to use Newton's method in order to compute $y_{i+1}$ at each step by solving:\n",
    "\n",
    "$$\n",
    "0 = y_{i} + (x_{i+1} - x_{i})f(x_{i+1}, y_{i+1}) - y_{i+1}, \\forall i \\in {0, n-1}\n",
    "$$"
   ]
  },
  {
   "cell_type": "code",
   "execution_count": 18,
   "metadata": {},
   "outputs": [],
   "source": [
    "def newton_method(x0, f, f_prime, tolerance, epsilon, max_iterations):\n",
    "    \"\"\"\n",
    "    Newton's method.\n",
    "\n",
    "    Parameters\n",
    "    ----------\n",
    "    x0 : float\n",
    "        Initial guess\n",
    "    f : function\n",
    "        Function whose root we are trying to find\n",
    "    f_prime : function\n",
    "        Derivative of the function\n",
    "    tolerance : float\n",
    "        Tolerance\n",
    "    epsilon : float\n",
    "        Limit\n",
    "    max_iterations : int\n",
    "        Maximum number of iterations to execute\n",
    "\n",
    "    Returns\n",
    "    -------\n",
    "    float\n",
    "        Root of the function\n",
    "    \"\"\"\n",
    "    for i in range(max_iterations):\n",
    "        y = f(x0)\n",
    "        yprime = f_prime(x0)\n",
    "\n",
    "        if abs(yprime) < epsilon:       # Stop if the denominator is too small\n",
    "            break\n",
    "\n",
    "        x1 = x0 - y / yprime            # Do Newton's computation\n",
    "\n",
    "        if abs(x1 - x0) <= tolerance:   # Stop when the result is within the desired tolerance\n",
    "            return x1                   # x1 is a solution within tolerance and maximum number of iterations\n",
    "\n",
    "        x0 = x1                         # Update x0 to start the process again\n",
    "\n",
    "    return None                         # Newton's method did not converge"
   ]
  },
  {
   "cell_type": "code",
   "execution_count": 19,
   "metadata": {},
   "outputs": [],
   "source": [
    "def implicit_euler_method(i, n, f, f_prime_y, y_0):\n",
    "    \"\"\"\n",
    "    First order Explicit Euler method.\n",
    "\n",
    "    Parameters\n",
    "    ----------\n",
    "    i : List | Tuple\n",
    "        Resolution interval\n",
    "        Etample: [-1,1] \n",
    "    n : int\n",
    "        Number of valuation points\n",
    "    f : function\n",
    "        Function f in the etpression of the ODE\n",
    "    f_prime_y : function\n",
    "        Derivative of function f relatively to the second variable (y)\n",
    "    y_0 : float\n",
    "        Initial value\n",
    "    Returns\n",
    "    -------\n",
    "    List, List\n",
    "        Valuation points, \n",
    "    \"\"\"\n",
    "    t = np.linspace(i[0], i[1], n)\n",
    "    y = [y_0]\n",
    "\n",
    "    for i in range(len(t)-1):\n",
    "        f_root = lambda x: y[-1] + (t[i+1] - t[i]) * f(t[i+1], x) - x\n",
    "        f_root_prime = lambda x: (t[i+1] - t[i]) * f_prime_y(t[i+1], x) - 1\n",
    "        yy = newton_method(y[-1], f_root, f_root_prime, 10**-20, 10**-20, 10**9)\n",
    "        y.append(yy)\n",
    "\n",
    "    return t, y"
   ]
  },
  {
   "cell_type": "code",
   "execution_count": 20,
   "metadata": {},
   "outputs": [],
   "source": [
    "i = [-1, 1]\n",
    "n = 1000\n",
    "d_y = lambda t: t*t\n",
    "f = lambda t, y: 2*t\n",
    "f_prime_y = lambda t, y: 0\n",
    "y_0 = 1\n",
    "\n",
    "t, y = implicit_euler_method(i, n, f, f_prime_y, y_0)\n",
    "y_true = [d_y(t_i) for t_i in t]\n",
    "\n",
    "mse = np.sum([(y_i - y_t)**2 for y_i, y_t in list(zip(y, y_true))])"
   ]
  },
  {
   "cell_type": "code",
   "execution_count": 21,
   "metadata": {},
   "outputs": [
    {
     "data": {
      "text/plain": [
       "Text(0.5, 1.0, 'MSE = 0.005346690704054595')"
      ]
     },
     "execution_count": 21,
     "metadata": {},
     "output_type": "execute_result"
    },
    {
     "data": {
      "image/png": "[encoded data removed]",
      "text/plain": [
       "<Figure size 432x288 with 1 Axes>"
      ]
     },
     "metadata": {
      "needs_background": "light"
     },
     "output_type": "display_data"
    }
   ],
   "source": [
    "plt.plot(t, y, color=\"red\")\n",
    "plt.plot(t, y_true, color=\"green\")\n",
    "plt.title(f\"MSE = {mse}\")"
   ]
  }
 ],
 "metadata": {
  "kernelspec": {
   "display_name": "base",
   "language": "python",
   "name": "python3"
  },
  "language_info": {
   "codemirror_mode": {
    "name": "ipython",
    "version": 3
   },
   "file_extension": ".py",
   "mimetype": "text/x-python",
   "name": "python",
   "nbconvert_exporter": "python",
   "pygments_lexer": "ipython3",
   "version": "3.9.12"
  }
 },
 "nbformat": 4,
 "nbformat_minor": 2
}
