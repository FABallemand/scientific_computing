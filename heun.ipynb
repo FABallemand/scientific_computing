{
 "cells": [
  {
   "cell_type": "markdown",
   "metadata": {},
   "source": [
    "# Heun's Method"
   ]
  },
  {
   "cell_type": "code",
   "execution_count": 3,
   "metadata": {},
   "outputs": [],
   "source": [
    "import numpy as np\n",
    "\n",
    "import matplotlib.pyplot as plt"
   ]
  },
  {
   "cell_type": "markdown",
   "metadata": {},
   "source": [
    "- Wikipedia: [Heun's Method](https://en.wikipedia.org/wiki/Heun%27s_method)"
   ]
  },
  {
   "cell_type": "markdown",
   "metadata": {},
   "source": [
    "In mathematics and computational science, the Euler method is a numerical procedure for solving ordinary differential equations (ODEs) with a given initial value. Heun's method is often described as the improved Euler's method.\n",
    "\n",
    "Let $I = [t_a, t_b]$ be an interval of $\\mathbb{R}$ and $f$ a real function defined on $I \\times \\mathbb{R}$.\n",
    "\n",
    "$$\n",
    "\\left\\{\n",
    "    \\begin{array}{ll}\n",
    "        \\forall t \\in I, y'(t) = f(t, y(t)) \\\\\n",
    "        y_a = y(t_a)\n",
    "    \\end{array}\n",
    "\\right.\n",
    "$$\n",
    "\n",
    "Heun's method gives an approximate solution at $n$ evenly separated points $\\{x_i\\}_{i \\in \\{0,n\\}}$ of $I$ defined in this way: $x_i = a + i\\frac{b-a}{n}$.\n",
    "\n",
    "These values are noted $\\{y_i\\}_{i \\in \\{0,n\\}}$."
   ]
  },
  {
   "cell_type": "markdown",
   "metadata": {},
   "source": [
    "The first step in heun's method consists in using the explicit Euler method relying on the approximation of the derivative:\n",
    "\n",
    "$$\n",
    "y'(x_{i}) \\approx \\frac{y(x_{i+1}) - y(x_{i})}{x_{i+1} - x_{i}}, \\forall i \\in {0, n-1}\n",
    "$$\n",
    "\n",
    "The previous problem becomes:\n",
    "\n",
    "$$\n",
    "\\tilde{y}_{i+1} = y_{i} + (x_{i+1} - x_{i})f(x_{i}, y_{i}), \\forall i \\in {0, n-1}\n",
    "$$\n",
    "\n",
    "Notice that we get $\\tilde{y}_{i+1}$ and not $y_{i+1}$. $\\tilde{y}_{i+1}$ is an approximation of $y_{i+1}$.\n",
    "\n",
    "The second part of Heun's method uses $\\tilde{y}_{i+1}$ to compute a more precise $y_{i+1}$ thanks to the following expression:\n",
    "\n",
    "$$\n",
    "y_{i+1} = y_{i} + \\frac{x_{i+1} - x_{i}}{2} \\left[ f(t_{i}, y_{i}) + f(t_{i+1}, \\tilde{y}_{i+1}) \\right]\n",
    "$$\n",
    "$$\n",
    "y_{i+1} = y_{i} + (x_{i+1} - x_{i}) \\frac{\\left[ f(t_{i}, y_{i}) + f(t_{i+1}, \\tilde{y}_{i+1}) \\right]}{2}\n",
    "$$"
   ]
  },
  {
   "cell_type": "code",
   "execution_count": 4,
   "metadata": {},
   "outputs": [],
   "source": [
    "def heun_method(i, n, f, y_0):\n",
    "    \"\"\"\n",
    "    Heun's method.\n",
    "\n",
    "    Parameters\n",
    "    ----------\n",
    "    i : List | Tuple\n",
    "        Resolution interval\n",
    "        Etample: [-1,1] \n",
    "    n : int\n",
    "        Number of valuation points\n",
    "    f : function\n",
    "        Function f in the etpression of the ODE\n",
    "    y_0 : float\n",
    "        Initial value\n",
    "    Returns\n",
    "    -------\n",
    "    List, List\n",
    "        Valuation points, \n",
    "    \"\"\"\n",
    "    t = np.linspace(i[0], i[1], n)\n",
    "    y_approx = [y_0]\n",
    "    y = [y_0]\n",
    "\n",
    "    for i in range(len(t)-1):\n",
    "        h = t[i+1] - t[i]\n",
    "        y_approx.append(y[i] + h * f(t[i], y[i]))\n",
    "        y.append(y[i] + (h/2) * (f(t[i], y[i]) + f(t[i+1], y_approx[i+1])))\n",
    "\n",
    "    return t, y"
   ]
  },
  {
   "cell_type": "code",
   "execution_count": 5,
   "metadata": {},
   "outputs": [],
   "source": [
    "i = [-1, 1]\n",
    "n = 1000\n",
    "d_y = lambda t: t*t\n",
    "f = lambda t, y: 2*t\n",
    "y_0 = 1\n",
    "\n",
    "t, y = heun_method(i, n, f, y_0)\n",
    "y_true = [d_y(t_i) for t_i in t]\n",
    "\n",
    "mse = np.sum([(y_i - y_t)**2 for y_i, y_t in list(zip(y, y_true))])"
   ]
  },
  {
   "cell_type": "code",
   "execution_count": 6,
   "metadata": {},
   "outputs": [
    {
     "data": {
      "text/plain": [
       "Text(0.5, 1.0, 'MSE = 4.057662296030459e-29')"
      ]
     },
     "execution_count": 6,
     "metadata": {},
     "output_type": "execute_result"
    },
    {
     "data": {
      "image/png": "[encoded data removed]",
      "text/plain": [
       "<Figure size 432x288 with 1 Axes>"
      ]
     },
     "metadata": {
      "needs_background": "light"
     },
     "output_type": "display_data"
    }
   ],
   "source": [
    "plt.plot(t, y, color=\"red\")\n",
    "plt.plot(t, y_true, color=\"green\")\n",
    "plt.title(f\"MSE = {mse}\")"
   ]
  }
 ],
 "metadata": {
  "kernelspec": {
   "display_name": "base",
   "language": "python",
   "name": "python3"
  },
  "language_info": {
   "codemirror_mode": {
    "name": "ipython",
    "version": 3
   },
   "file_extension": ".py",
   "mimetype": "text/x-python",
   "name": "python",
   "nbconvert_exporter": "python",
   "pygments_lexer": "ipython3",
   "version": "3.9.12"
  }
 },
 "nbformat": 4,
 "nbformat_minor": 2
}
